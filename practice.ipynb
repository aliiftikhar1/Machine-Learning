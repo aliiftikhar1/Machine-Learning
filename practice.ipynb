msg = "My name is Ali"
print ("msg")
